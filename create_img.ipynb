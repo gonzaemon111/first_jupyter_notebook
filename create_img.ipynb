{
 "cells": [
  {
   "cell_type": "code",
   "execution_count": null,
   "metadata": {},
   "outputs": [],
   "source": [
    "import cv2\n",
    "import numpy as np\n",
    "\n",
    "img = np.zeros((400, 400, 3), np.uint8)\n",
    "\n",
    "img[ : , : ] = [255, 0, 0]\n",
    "cv2.imwrite('./tmp/blueImage.jpg', img)\n",
    "cv2.imshow('img1', img)\n",
    "\n",
    "img[ : , : ] = [0, 255, 0]\n",
    "cv2.imwrite('./tmp/greenImage.jpg', img)\n",
    "cv2.imshow('img2', img)\n",
    "\n",
    "img[ : , : ] = [0, 0, 255]\n",
    "cv2.imwrite('./tmp/blueImage.jpg', img)\n",
    "cv2.imshow('img3', img)\n",
    "\n",
    "cv2.waitKey(0)\n",
    "cv2.destroyAllWindow()"
   ]
  },
  {
   "cell_type": "code",
   "execution_count": null,
   "metadata": {},
   "outputs": [],
   "source": []
  },
  {
   "cell_type": "code",
   "execution_count": null,
   "metadata": {},
   "outputs": [],
   "source": []
  },
  {
   "cell_type": "code",
   "execution_count": null,
   "metadata": {},
   "outputs": [],
   "source": []
  },
  {
   "cell_type": "code",
   "execution_count": null,
   "metadata": {},
   "outputs": [],
   "source": []
  }
 ],
 "metadata": {
  "kernelspec": {
   "display_name": "Python 3",
   "language": "python",
   "name": "python3"
  },
  "language_info": {
   "codemirror_mode": {
    "name": "ipython",
    "version": 3
   },
   "file_extension": ".py",
   "mimetype": "text/x-python",
   "name": "python",
   "nbconvert_exporter": "python",
   "pygments_lexer": "ipython3",
   "version": "3.7.0"
  }
 },
 "nbformat": 4,
 "nbformat_minor": 2
}
