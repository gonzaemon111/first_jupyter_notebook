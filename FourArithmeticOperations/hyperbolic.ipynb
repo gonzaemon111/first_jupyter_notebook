{
 "cells": [
  {
   "cell_type": "code",
   "execution_count": 1,
   "metadata": {},
   "outputs": [
    {
     "name": "stdout",
     "output_type": "stream",
     "text": [
      "3.6268604078470186\n",
      "3.7621956910836314\n",
      "0.9640275800758169\n",
      "-1.1752011936438014\n",
      "1.5430806348152437\n",
      "-0.7615941559557649\n",
      "1.4436354751788103\n",
      "0.0\n",
      "0.8673005276940532\n"
     ]
    }
   ],
   "source": [
    "import numpy  as np\n",
    "\n",
    "print(np.sinh(2))\n",
    "print(np.cosh(2))\n",
    "print(np.tanh(2))\n",
    "print(np.sinh(-1))\n",
    "print(np.cosh(-1))\n",
    "print(np.tanh(-1))\n",
    "print(np.arcsinh(2))\n",
    "print(np.arccosh(1))\n",
    "print(np.arctanh(0.7))"
   ]
  },
  {
   "cell_type": "code",
   "execution_count": null,
   "metadata": {},
   "outputs": [],
   "source": []
  }
 ],
 "metadata": {
  "kernelspec": {
   "display_name": "Python 3",
   "language": "python",
   "name": "python3"
  },
  "language_info": {
   "codemirror_mode": {
    "name": "ipython",
    "version": 3
   },
   "file_extension": ".py",
   "mimetype": "text/x-python",
   "name": "python",
   "nbconvert_exporter": "python",
   "pygments_lexer": "ipython3",
   "version": "3.7.0"
  }
 },
 "nbformat": 4,
 "nbformat_minor": 2
}
