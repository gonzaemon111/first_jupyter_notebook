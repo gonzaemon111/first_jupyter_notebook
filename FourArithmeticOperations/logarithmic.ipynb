{
 "cells": [
  {
   "cell_type": "code",
   "execution_count": 2,
   "metadata": {},
   "outputs": [
    {
     "name": "stdout",
     "output_type": "stream",
     "text": [
      "1.0\n",
      "[0.         0.69314718 2.         2.30258509]\n",
      "[0.         1.         2.         2.80735492]\n",
      "[0.      1.      1.30103 2.     ]\n",
      "[0.69314718 1.09861229 2.12692801 2.39789527]\n",
      "0.5\n",
      "2.0\n"
     ]
    }
   ],
   "source": [
    "import numpy  as np\n",
    "\n",
    "print(np.log(np.e)) # np.eでネイピア数e\n",
    "a = np.array([1., 2., np.e**2, 10])\n",
    "b = np.array([1., 2., 4., 7])\n",
    "\n",
    "print(np.log(a)) # 配列を指定することもできる。（他の数学関数も同様)\n",
    "\n",
    "print(np.log2(b))\n",
    "\n",
    "c = np.array([1., 10., 20., 100])\n",
    "print(np.log10(c))\n",
    "print(np.log1p(a))\n",
    "\n",
    "print(np.log(2)/np.log(4))\n",
    "print(np.log(9)/np.log(3))"
   ]
  },
  {
   "cell_type": "code",
   "execution_count": null,
   "metadata": {},
   "outputs": [],
   "source": []
  }
 ],
 "metadata": {
  "kernelspec": {
   "display_name": "Python 3",
   "language": "python",
   "name": "python3"
  },
  "language_info": {
   "codemirror_mode": {
    "name": "ipython",
    "version": 3
   },
   "file_extension": ".py",
   "mimetype": "text/x-python",
   "name": "python",
   "nbconvert_exporter": "python",
   "pygments_lexer": "ipython3",
   "version": "3.7.0"
  }
 },
 "nbformat": 4,
 "nbformat_minor": 2
}
