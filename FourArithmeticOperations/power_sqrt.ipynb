{
 "cells": [
  {
   "cell_type": "code",
   "execution_count": 4,
   "metadata": {},
   "outputs": [
    {
     "name": "stdout",
     "output_type": "stream",
     "text": [
      "8\n",
      "8\n",
      "[  1   4   3  16   5  36   7  64   9 100]\n",
      "[  1   4   3  16   5  36   7  64   9 100]\n",
      "1.4142135623730951\n",
      "1.4142135623730951\n",
      "[1.         1.41421356 1.73205081 2.         2.23606798 2.44948974\n",
      " 2.64575131 2.82842712 3.         3.16227766]\n"
     ]
    }
   ],
   "source": [
    "import numpy as np\n",
    "\n",
    "print(np.power(2, 3)) # 2の3乗の値を求める。\n",
    "print(2**3 )# これはPythonの累乗計算\n",
    "\n",
    "a = np.arange(1, 11, 1)\n",
    "b = np.array([1,2,1,2,1,2,1,2,1,2])\n",
    "\n",
    "print(np.power(a, b)) # 1乗、2乗の値が交互に出る。\n",
    "print(a ** b) # 同様に\n",
    "print(np.sqrt(2))# 平方根はnp.sqrt()を使う\n",
    "print(2 ** 0.5) # もちろんこのようにして平方根を求めることもできる。\n",
    "print(np.sqrt(a)) # もちろん、配列を入れることも可能。"
   ]
  },
  {
   "cell_type": "code",
   "execution_count": null,
   "metadata": {},
   "outputs": [],
   "source": []
  }
 ],
 "metadata": {
  "kernelspec": {
   "display_name": "Python 3",
   "language": "python",
   "name": "python3"
  },
  "language_info": {
   "codemirror_mode": {
    "name": "ipython",
    "version": 3
   },
   "file_extension": ".py",
   "mimetype": "text/x-python",
   "name": "python",
   "nbconvert_exporter": "python",
   "pygments_lexer": "ipython3",
   "version": "3.7.0"
  }
 },
 "nbformat": 4,
 "nbformat_minor": 2
}
