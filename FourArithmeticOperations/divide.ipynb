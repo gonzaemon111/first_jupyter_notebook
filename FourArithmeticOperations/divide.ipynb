{
 "cells": [
  {
   "cell_type": "code",
   "execution_count": 4,
   "metadata": {},
   "outputs": [
    {
     "name": "stdout",
     "output_type": "stream",
     "text": [
      "b / a =[       inf 4.         3.         2.66666667 2.5       ]\n",
      "b / 2 = [1. 2. 3. 4. 5.]\n",
      "b / 3 = [0.66666667 1.33333333 2.         2.66666667 3.33333333]\n",
      "b // 3 = [0 1 2 2 3]\n"
     ]
    },
    {
     "name": "stderr",
     "output_type": "stream",
     "text": [
      "/Users/gsmbp/.pyenv/versions/anaconda3-5.3.1/lib/python3.7/site-packages/ipykernel_launcher.py:6: RuntimeWarning: divide by zero encountered in true_divide\n",
      "  \n"
     ]
    }
   ],
   "source": [
    "import numpy as np\n",
    "\n",
    "a = np.array([0, 1, 2, 3, 4])\n",
    "b = np.array([2, 4, 6, 8, 10])\n",
    "\n",
    "print(\"b / a =\" + str(b / a)) # b÷aを行うが、aの要素の中に0が含まれているので1つだけ無限を表す`inf`になっている。 \n",
    "print(\"b / 2 =\", str(b / 2))\n",
    "print(\"b / 3 =\", str(b / 3))\n",
    "print(\"b // 3 = \"+ str(b // 3))"
   ]
  },
  {
   "cell_type": "code",
   "execution_count": null,
   "metadata": {},
   "outputs": [],
   "source": []
  }
 ],
 "metadata": {
  "kernelspec": {
   "display_name": "Python 3",
   "language": "python",
   "name": "python3"
  },
  "language_info": {
   "codemirror_mode": {
    "name": "ipython",
    "version": 3
   },
   "file_extension": ".py",
   "mimetype": "text/x-python",
   "name": "python",
   "nbconvert_exporter": "python",
   "pygments_lexer": "ipython3",
   "version": "3.7.0"
  }
 },
 "nbformat": 4,
 "nbformat_minor": 2
}
