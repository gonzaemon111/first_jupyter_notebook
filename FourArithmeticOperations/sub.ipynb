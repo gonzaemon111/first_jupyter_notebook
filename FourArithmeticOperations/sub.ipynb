{
 "cells": [
  {
   "cell_type": "code",
   "execution_count": 3,
   "metadata": {},
   "outputs": [
    {
     "name": "stdout",
     "output_type": "stream",
     "text": [
      "a - b =[-2 -3 -4 -5 -6]\n",
      "b - a =[2 3 4 5 6]\n",
      "a - 4 =[-4 -3 -2 -1  0]\n"
     ]
    }
   ],
   "source": [
    "import numpy as np\n",
    "\n",
    "a = np.array([0, 1, 2, 3, 4])\n",
    "b = np.array([2, 4, 6, 8, 10])\n",
    "\n",
    "\n",
    "print(\"a - b =\" + str(a - b)) # 先ほど作ったa,bを用いる。\n",
    "print(\"b - a =\" + str(b - a))\n",
    "\n",
    "print(\"a - 4 =\" + str(a - 4)) # 各々の要素から４ずつ引く。"
   ]
  },
  {
   "cell_type": "code",
   "execution_count": null,
   "metadata": {},
   "outputs": [],
   "source": []
  }
 ],
 "metadata": {
  "kernelspec": {
   "display_name": "Python 3",
   "language": "python",
   "name": "python3"
  },
  "language_info": {
   "codemirror_mode": {
    "name": "ipython",
    "version": 3
   },
   "file_extension": ".py",
   "mimetype": "text/x-python",
   "name": "python",
   "nbconvert_exporter": "python",
   "pygments_lexer": "ipython3",
   "version": "3.7.0"
  }
 },
 "nbformat": 4,
 "nbformat_minor": 2
}
