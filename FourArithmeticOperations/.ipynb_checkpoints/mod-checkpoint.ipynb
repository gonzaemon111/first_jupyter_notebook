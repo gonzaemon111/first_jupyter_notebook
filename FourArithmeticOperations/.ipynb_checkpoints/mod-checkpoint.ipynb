{
 "cells": [
  {
   "cell_type": "code",
   "execution_count": null,
   "metadata": {},
   "outputs": [],
   "source": [
    "import numpy as np\n",
    "\n",
    "a = np.array([0, 1, 2, 3, 4])\n",
    "b = np.array([2, 4, 6, 8, 10])\n",
    "\n",
    "print(\"b % 3 = \" + str(b % 3))\n",
    "print(\"np.mod(b, 3) = \" + str(np.mod(b, 3))) # 3で割ったあまり"
   ]
  }
 ],
 "metadata": {
  "kernelspec": {
   "display_name": "Python 3",
   "language": "python",
   "name": "python3"
  },
  "language_info": {
   "codemirror_mode": {
    "name": "ipython",
    "version": 3
   },
   "file_extension": ".py",
   "mimetype": "text/x-python",
   "name": "python",
   "nbconvert_exporter": "python",
   "pygments_lexer": "ipython3",
   "version": "3.7.0"
  }
 },
 "nbformat": 4,
 "nbformat_minor": 2
}
