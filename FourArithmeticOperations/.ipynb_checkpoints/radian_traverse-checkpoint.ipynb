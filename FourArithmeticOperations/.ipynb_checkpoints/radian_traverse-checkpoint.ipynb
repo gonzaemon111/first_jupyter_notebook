{
 "cells": [
  {
   "cell_type": "code",
   "execution_count": 1,
   "metadata": {},
   "outputs": [
    {
     "name": "stdout",
     "output_type": "stream",
     "text": [
      "2.0943951023931953\n",
      "2.0943951023931953\n",
      "179.9087476710785\n",
      "2.3\n",
      "1.03 µs ± 11.2 ns per loop (mean ± std. dev. of 7 runs, 1000000 loops each)\n",
      "1.15 µs ± 105 ns per loop (mean ± std. dev. of 7 runs, 1000000 loops each)\n"
     ]
    }
   ],
   "source": [
    "import numpy as np\n",
    "\n",
    "print(np.radians(120))\n",
    "\n",
    "print(np.deg2rad(120))\n",
    "\n",
    "print(np.rad2deg(3.14))\n",
    "\n",
    "print(np.deg2rad(np.rad2deg(2.3)))\n",
    "\n",
    "%timeit np.radians(24)\n",
    "%timeit np.deg2rad(24)"
   ]
  },
  {
   "cell_type": "code",
   "execution_count": null,
   "metadata": {},
   "outputs": [],
   "source": []
  }
 ],
 "metadata": {
  "kernelspec": {
   "display_name": "Python 3",
   "language": "python",
   "name": "python3"
  },
  "language_info": {
   "codemirror_mode": {
    "name": "ipython",
    "version": 3
   },
   "file_extension": ".py",
   "mimetype": "text/x-python",
   "name": "python",
   "nbconvert_exporter": "python",
   "pygments_lexer": "ipython3",
   "version": "3.7.0"
  }
 },
 "nbformat": 4,
 "nbformat_minor": 2
}
