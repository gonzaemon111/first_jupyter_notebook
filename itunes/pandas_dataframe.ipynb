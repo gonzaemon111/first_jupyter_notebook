{
 "cells": [
  {
   "cell_type": "code",
   "execution_count": 5,
   "metadata": {},
   "outputs": [
    {
     "name": "stdout",
     "output_type": "stream",
     "text": [
      "曲数： 3866\n",
      "アルバム数： 395\n",
      "アーティスト数： 176\n",
      "総再生回数： 36915\n"
     ]
    },
    {
     "data": {
      "text/plain": [
       "Text(0,0.5,'曲数')"
      ]
     },
     "execution_count": 5,
     "metadata": {},
     "output_type": "execute_result"
    },
    {
     "data": {
      "image/png": "[encoded data removed]",
      "text/plain": [
       "<Figure size 432x288 with 1 Axes>"
      ]
     },
     "metadata": {
      "needs_background": "light"
     },
     "output_type": "display_data"
    }
   ],
   "source": [
    "import pandas as pd\n",
    "\n",
    "with open('tracks.json', 'r') as f:\n",
    "    df = pd.read_json(f).set_index('id')\n",
    "\n",
    "df.sample(100)\n",
    "\n",
    "print('曲数：', len(df))\n",
    "print('アルバム数：', len(df.album.unique()))\n",
    "print('アーティスト数：', len(df.albumArtist.unique()))\n",
    "print('総再生回数：', df.playedCount.sum())\n",
    "# print('総再生時間：', (df.time * df.playedCount).sum())\n",
    "\n",
    "ax = df.playedCount[df.playedCount <= 40].hist(bins=40)\n",
    "ax.set_xlabel('再生回数')\n",
    "ax.set_ylabel('曲数')\n",
    "# plt.show()"
   ]
  },
  {
   "cell_type": "code",
   "execution_count": null,
   "metadata": {},
   "outputs": [],
   "source": []
  }
 ],
 "metadata": {
  "kernelspec": {
   "display_name": "Python 3",
   "language": "python",
   "name": "python3"
  },
  "language_info": {
   "codemirror_mode": {
    "name": "ipython",
    "version": 3
   },
   "file_extension": ".py",
   "mimetype": "text/x-python",
   "name": "python",
   "nbconvert_exporter": "python",
   "pygments_lexer": "ipython3",
   "version": "3.7.0"
  }
 },
 "nbformat": 4,
 "nbformat_minor": 2
}
