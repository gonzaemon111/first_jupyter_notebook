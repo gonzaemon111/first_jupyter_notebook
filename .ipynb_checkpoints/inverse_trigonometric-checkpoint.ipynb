{
 "cells": [
  {
   "cell_type": "code",
   "execution_count": 2,
   "metadata": {},
   "outputs": [
    {
     "name": "stdout",
     "output_type": "stream",
     "text": [
      "0.5235987755982988\n",
      "1.0471975511965976\n",
      "0.7853981633974483\n",
      "-1.5707963267948966\n",
      "3.141592653589793\n",
      "-0.46364760900080615\n"
     ]
    }
   ],
   "source": [
    "import numpy as np\n",
    "\n",
    "print(np.arcsin(0.5))\n",
    "\n",
    "print(np.arccos(0.5))\n",
    "\n",
    "print(np.arctan(1.0))\n",
    "\n",
    "print(np.arcsin(-1.0))\n",
    "\n",
    "print(np.arccos(-1.0))\n",
    "\n",
    "print(np.arctan(-0.5))"
   ]
  },
  {
   "cell_type": "code",
   "execution_count": null,
   "metadata": {},
   "outputs": [],
   "source": []
  }
 ],
 "metadata": {
  "kernelspec": {
   "display_name": "Python 3",
   "language": "python",
   "name": "python3"
  },
  "language_info": {
   "codemirror_mode": {
    "name": "ipython",
    "version": 3
   },
   "file_extension": ".py",
   "mimetype": "text/x-python",
   "name": "python",
   "nbconvert_exporter": "python",
   "pygments_lexer": "ipython3",
   "version": "3.7.0"
  }
 },
 "nbformat": 4,
 "nbformat_minor": 2
}
