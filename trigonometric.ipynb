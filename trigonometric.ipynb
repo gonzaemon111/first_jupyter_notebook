{
 "cells": [
  {
   "cell_type": "code",
   "execution_count": 2,
   "metadata": {},
   "outputs": [
    {
     "name": "stdout",
     "output_type": "stream",
     "text": [
      "1.0\n",
      "6.123233995736766e-17\n",
      "1.633123935319537e+16\n",
      "0.8414709848078965\n",
      "0.5403023058681398\n",
      "1.557407724654902\n"
     ]
    }
   ],
   "source": [
    "import numpy as np\n",
    "\n",
    "np.sin(0)\n",
    "np.cos(0)\n",
    "np.tan(0)\n",
    "\n",
    "print(np.sin(np.pi*0.5)) # π/2のときのサインの値は1\n",
    "\n",
    "print(np.cos(np.pi*0.5)) # 0になるはず。\n",
    "\n",
    "print(np.tan(np.pi*0.5)) # 無限に発散する。\n",
    "\n",
    "print(np.sin(1))\n",
    "\n",
    "print(np.cos(1))\n",
    "\n",
    "print(np.tan(1))"
   ]
  },
  {
   "cell_type": "code",
   "execution_count": null,
   "metadata": {},
   "outputs": [],
   "source": []
  }
 ],
 "metadata": {
  "kernelspec": {
   "display_name": "Python 3",
   "language": "python",
   "name": "python3"
  },
  "language_info": {
   "codemirror_mode": {
    "name": "ipython",
    "version": 3
   },
   "file_extension": ".py",
   "mimetype": "text/x-python",
   "name": "python",
   "nbconvert_exporter": "python",
   "pygments_lexer": "ipython3",
   "version": "3.7.0"
  }
 },
 "nbformat": 4,
 "nbformat_minor": 2
}
