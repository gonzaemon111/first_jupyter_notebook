{
 "cells": [
  {
   "cell_type": "code",
   "execution_count": 8,
   "metadata": {},
   "outputs": [
    {
     "name": "stdout",
     "output_type": "stream",
     "text": [
      "[1 2 3]\n",
      "1\n",
      "2\n",
      "[1 3 3]\n",
      "1\n",
      "6\n",
      "d[1:5] = [5 2 7 1]\n",
      "d[1:3] = [5 2]\n",
      "d[0:5:2] = [0 2 1]\n",
      "d[::-1] = [9 1 7 2 5 0]\n"
     ]
    }
   ],
   "source": [
    "import numpy as np\n",
    "\n",
    "# 配列の中の特定の値を抜き出したいときはインデックスとスライシングを使います。スライシングは少しクセがあるので注意してくださいね。\n",
    "\n",
    "# まずはインデックスを使ってみましょう。一次元配列から試してみます。\n",
    "a = np.array([1, 2, 3])\n",
    "print(a)\n",
    "print(a[0])\n",
    "print(a[1])\n",
    "a[1] = 3\n",
    "print(a)\n",
    "\n",
    "# このように、先頭の要素のインデックスは0になっています。\n",
    "# またインデックス機能を使って配列の特定の値だけを変更することが可能です。\n",
    "# では２次元配列で見てみます。\n",
    "c = np.array([[1, 2, 3], [4, 5, 6]])\n",
    "print(c[0,0])\n",
    "print(c[1,2])\n",
    "\n",
    "# 最初の数字で縦方向のインデックスを、次の数字で横方向のインデックスを指定しています。\n",
    "\n",
    "# 次にスライシングです。これは複数の要素を抜き出すときに使うものです。新たに配列dを設定してスライシングを使ってみます。\n",
    "d = np.array([0, 5, 2, 7, 1, 9])\n",
    "print(\"d[1:5] = \" + str(d[1:5]))\n",
    "print(\"d[1:3] = \" + str(d[1:3]))\n",
    "\n",
    "# [始点:終点]の形で指定しますが、終点として指定されたインデックスは含まれないことに注意してください。\n",
    "# [始点:終点:間隔]の形で指定することができ、\n",
    "\n",
    "print(\"d[0:5:2] = \" + str(d[0:5:2]))\n",
    "print(\"d[::-1] = \" + str(d[::-1]))\n",
    "\n",
    "# このように使うことができます。d[::-1]はとりあえず配列をひっくり返したいときに便利なものなので 覚えておくとよいですよ。スライシングについてもっとよく知りたい方は以下の記事を参考にしてください。"
   ]
  },
  {
   "cell_type": "code",
   "execution_count": null,
   "metadata": {},
   "outputs": [],
   "source": []
  }
 ],
 "metadata": {
  "kernelspec": {
   "display_name": "Python 3",
   "language": "python",
   "name": "python3"
  },
  "language_info": {
   "codemirror_mode": {
    "name": "ipython",
    "version": 3
   },
   "file_extension": ".py",
   "mimetype": "text/x-python",
   "name": "python",
   "nbconvert_exporter": "python",
   "pygments_lexer": "ipython3",
   "version": "3.7.0"
  }
 },
 "nbformat": 4,
 "nbformat_minor": 2
}
