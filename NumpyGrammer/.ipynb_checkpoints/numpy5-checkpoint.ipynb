{
 "cells": [
  {
   "cell_type": "code",
   "execution_count": 8,
   "metadata": {},
   "outputs": [
    {
     "name": "stdout",
     "output_type": "stream",
     "text": [
      "[[[ 1  2  3]\n",
      "  [ 4  5  6]\n",
      "  [ 7  8  9]\n",
      "  [10 11 12]]\n",
      "\n",
      " [[13 14 15]\n",
      "  [16 17 18]\n",
      "  [19 20 21]\n",
      "  [22 23 24]]]\n",
      "d.shape = (2, 4, 3)\n",
      "np.sum(c, axis=1)[ 6 15]\n",
      "c.reshape(3,2) = [[1 2]\n",
      " [3 4]\n",
      " [5 6]]\n",
      "c.reshape(6,1) = [[1]\n",
      " [2]\n",
      " [3]\n",
      " [4]\n",
      " [5]\n",
      " [6]]\n"
     ]
    }
   ],
   "source": [
    "import numpy as np\n",
    "\n",
    "# 3次元配列も作ることができます。\n",
    "c = np.array([[1, 2, 3], [4, 5, 6]])\n",
    "d = np.array([[[1, 2, 3], [4, 5, 6], [7, 8, 9], [10, 11, 12]],[[13,14,15],[16,17,18],[19,20,21],[22,23,24]]])\n",
    "\n",
    "print(d)\n",
    "\n",
    "print(\"d.shape = \" + str(d.shape))\n",
    "\n",
    "# ここには軸(axis)の考えなども混ざってきます。例えば和を求める関数はnp.sumで与えられるのですが、\n",
    "np.sum(c)\n",
    "\n",
    "# 列ごとの和を知りたい時、以下の様に軸(axis)を指定するとうまくできます。\n",
    "print(\"np.sum(c, axis=1)\" + str(np.sum(c, axis=1)))\n",
    "\n",
    "# またこの配列の形状を変える事もできます。reshape関数を使って変えてみましょう。\n",
    "\n",
    "print(\"c.reshape(3,2) = \" + str(c.reshape(3,2)))\n",
    "print(\"c.reshape(6,1) = \" + str(c.reshape(6,1)))\n",
    "\n",
    "# また転置を行うこともできます。やり方は様々ですが、配列.Tの形やtranspose関数で求めることができます。\n",
    "print(\"c.T = \" + str(c.T))\n",
    "print(\"np.transpose(c)\" + str(np.transpose(c)))"
   ]
  },
  {
   "cell_type": "code",
   "execution_count": null,
   "metadata": {},
   "outputs": [],
   "source": []
  }
 ],
 "metadata": {
  "kernelspec": {
   "display_name": "Python 3",
   "language": "python",
   "name": "python3"
  },
  "language_info": {
   "codemirror_mode": {
    "name": "ipython",
    "version": 3
   },
   "file_extension": ".py",
   "mimetype": "text/x-python",
   "name": "python",
   "nbconvert_exporter": "python",
   "pygments_lexer": "ipython3",
   "version": "3.7.0"
  }
 },
 "nbformat": 4,
 "nbformat_minor": 2
}
