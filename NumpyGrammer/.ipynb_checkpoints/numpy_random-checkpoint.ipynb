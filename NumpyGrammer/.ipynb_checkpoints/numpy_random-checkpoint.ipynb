{
 "cells": [
  {
   "cell_type": "code",
   "execution_count": 4,
   "metadata": {},
   "outputs": [
    {
     "name": "stdout",
     "output_type": "stream",
     "text": [
      "-0.2808330073964677\n",
      "0.5774713923168859\n",
      "np.random.randn(2,3)[[-1.82696242 -0.10582163 -0.19970462]\n",
      " [ 2.88137914 -0.44559506  0.74407519]]\n"
     ]
    }
   ],
   "source": [
    "import numpy as np\n",
    "\n",
    "# 次に乱数を発生させてみます。np.randomクラスにいろんな乱数を発生させる関数が実装されています。\n",
    "\n",
    "# randn関数が標準正規分布に従った値を返し、rand関数は0~1までの値の中で乱数を返します。\n",
    "print(np.random.randn())\n",
    "print(np.random.rand())\n",
    "\n",
    "\n",
    "#()の中で形状を指定することで任意の形状の配列の要素を乱数で埋めたものを出力することができます。\n",
    "print(\"np.random.randn(2,3)\" + str(np.random.randn(2,3)))"
   ]
  },
  {
   "cell_type": "code",
   "execution_count": null,
   "metadata": {},
   "outputs": [],
   "source": []
  }
 ],
 "metadata": {
  "kernelspec": {
   "display_name": "Python 3",
   "language": "python",
   "name": "python3"
  },
  "language_info": {
   "codemirror_mode": {
    "name": "ipython",
    "version": 3
   },
   "file_extension": ".py",
   "mimetype": "text/x-python",
   "name": "python",
   "nbconvert_exporter": "python",
   "pygments_lexer": "ipython3",
   "version": "3.7.0"
  }
 },
 "nbformat": 4,
 "nbformat_minor": 2
}
