{
 "cells": [
  {
   "cell_type": "code",
   "execution_count": 7,
   "metadata": {},
   "outputs": [
    {
     "name": "stdout",
     "output_type": "stream",
     "text": [
      "[[1 2 3]\n",
      " [4 5 6]]\n",
      "(2, 3)\n"
     ]
    }
   ],
   "source": [
    "import numpy as np\n",
    "\n",
    "c = np.array([[1, 2, 3], [4, 5, 6]])\n",
    "# 次は２次元配列を作ってみましょう。 以下のようにリストを並べたリストの形式で記述しています。\n",
    "print(c)\n",
    "# これが２次元配列です。\n",
    "\n",
    "# 配列の形状の表し方は線形代数の行列と一緒で2×3となり、タプルで(2,3)と表されます。\n",
    "# これは配列.shapeを実行することで確認することができます。\n",
    "print(\"c.shape = \")\n",
    "print(str(c.shape))"
   ]
  },
  {
   "cell_type": "code",
   "execution_count": null,
   "metadata": {},
   "outputs": [],
   "source": []
  }
 ],
 "metadata": {
  "kernelspec": {
   "display_name": "Python 3",
   "language": "python",
   "name": "python3"
  },
  "language_info": {
   "codemirror_mode": {
    "name": "ipython",
    "version": 3
   },
   "file_extension": ".py",
   "mimetype": "text/x-python",
   "name": "python",
   "nbconvert_exporter": "python",
   "pygments_lexer": "ipython3",
   "version": "3.7.0"
  }
 },
 "nbformat": 4,
 "nbformat_minor": 2
}
