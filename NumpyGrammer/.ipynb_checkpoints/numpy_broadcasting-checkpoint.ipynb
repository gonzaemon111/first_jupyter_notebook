{
 "cells": [
  {
   "cell_type": "code",
   "execution_count": 8,
   "metadata": {},
   "outputs": [
    {
     "name": "stdout",
     "output_type": "stream",
     "text": [
      "[1 2 3]\n",
      "[[1 2 3]\n",
      " [4 5 6]]\n",
      "a + c = [[2 4 6]\n",
      " [5 7 9]]\n",
      "a * c = [[ 1  4  9]\n",
      " [ 4 10 18]]\n"
     ]
    }
   ],
   "source": [
    "import numpy as np\n",
    "# これはNumPyの代表的な特徴の１つであり、使いこなせるようになるととても便利です。\n",
    "\n",
    "# 配列の形状にあわせて適宜配列を拡張してくれる機能となっています。何言っているのかよくわからないですよね。\n",
    "\n",
    "# 実際のコードを見てもらったほうが早いと思うので早速みていきましょう\n",
    "\n",
    "a = np.array([1, 2, 3])\n",
    "c = np.array([[1, 2, 3], [4, 5, 6]])\n",
    "\n",
    "print(a)\n",
    "print(c)\n",
    "print(\"a + c = \" + str(a+c))\n",
    "print(\"a * c = \" + str(a*c))\n",
    "# 見てわかるでしょうか。aの配列が２回繰り返されることでcへの足し算を行っていることが。 aがcの形状にあわせて拡張（この場合は行方向に要素が１回繰り返される）されたあと、通常の足し算や掛け算を行っていることになります。\n",
    "\n",
    "# ブロードキャストについて詳しく知りたい方はこちら。"
   ]
  },
  {
   "cell_type": "code",
   "execution_count": null,
   "metadata": {},
   "outputs": [],
   "source": []
  },
  {
   "cell_type": "code",
   "execution_count": null,
   "metadata": {},
   "outputs": [],
   "source": []
  }
 ],
 "metadata": {
  "kernelspec": {
   "display_name": "Python 3",
   "language": "python",
   "name": "python3"
  },
  "language_info": {
   "codemirror_mode": {
    "name": "ipython",
    "version": 3
   },
   "file_extension": ".py",
   "mimetype": "text/x-python",
   "name": "python",
   "nbconvert_exporter": "python",
   "pygments_lexer": "ipython3",
   "version": "3.7.0"
  }
 },
 "nbformat": 4,
 "nbformat_minor": 2
}
