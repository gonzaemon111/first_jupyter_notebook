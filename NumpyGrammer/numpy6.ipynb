{
 "cells": [
  {
   "cell_type": "code",
   "execution_count": 1,
   "metadata": {},
   "outputs": [
    {
     "name": "stdout",
     "output_type": "stream",
     "text": [
      "Using NumPy\t 0.047759 sec\n",
      "Not using NumPy\t 4.742061 sec\n"
     ]
    }
   ],
   "source": [
    "import numpy as np\n",
    "import time\n",
    "\n",
    "def calculate_time():\n",
    "    a = np.random.randn(100000)\n",
    "    b = list(a)\n",
    "    start_time = time.time()\n",
    "    for _ in range(1000):\n",
    "        sum_1 = np.sum(a)\n",
    "    print(\"Using NumPy\\t %f sec\" % (time.time()-start_time))\n",
    "    start_time = time.time()\n",
    "    for _ in range(1000):\n",
    "        sum_2 = sum(b)\n",
    "    print(\"Not using NumPy\\t %f sec\" % (time.time()-start_time))\n",
    "\n",
    "calculate_time()\n",
    "\n",
    "# 上記の場合では1.5倍ほど高速に演算できていることがわかりました。更に配列のサイズを大きくすると以下のようになります。\n",
    "\n",
    "# 次はIPythonの%timeitを使って計測してみます。"
   ]
  },
  {
   "cell_type": "code",
   "execution_count": null,
   "metadata": {},
   "outputs": [],
   "source": [
    "import numpy as np\n",
    "a = np.random.randn(10000000)\n",
    "%timeit np.sum(a)\n",
    "%timeit sum(a)"
   ]
  },
  {
   "cell_type": "code",
   "execution_count": null,
   "metadata": {},
   "outputs": [],
   "source": []
  }
 ],
 "metadata": {
  "kernelspec": {
   "display_name": "Python 3",
   "language": "python",
   "name": "python3"
  },
  "language_info": {
   "codemirror_mode": {
    "name": "ipython",
    "version": 3
   },
   "file_extension": ".py",
   "mimetype": "text/x-python",
   "name": "python",
   "nbconvert_exporter": "python",
   "pygments_lexer": "ipython3",
   "version": "3.7.0"
  }
 },
 "nbformat": 4,
 "nbformat_minor": 2
}
